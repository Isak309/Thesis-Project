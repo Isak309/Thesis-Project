{
 "cells": [
  {
   "cell_type": "code",
   "execution_count": 1,
   "metadata": {},
   "outputs": [
    {
     "name": "stdout",
     "output_type": "stream",
     "text": [
      "torch version: 1.7.1\n",
      "cuda availability: True\n",
      "cuda version: 10.2\n"
     ]
    }
   ],
   "source": [
    "# CNN library I will use\n",
    "import torch\n",
    "print('torch version:', torch.__version__)\n",
    "print('cuda availability:', torch.cuda.is_available())\n",
    "print('cuda version:', torch.version.cuda)"
   ]
  },
  {
   "cell_type": "code",
   "execution_count": 2,
   "metadata": {},
   "outputs": [],
   "source": [
    "# Add functionality to import from google drive\n",
    "from pydrive.auth import GoogleAuth\n",
    "from pydrive.drive import GoogleDrive"
   ]
  },
  {
   "cell_type": "code",
   "execution_count": 3,
   "metadata": {},
   "outputs": [
    {
     "name": "stdout",
     "output_type": "stream",
     "text": [
      "Your browser has been opened to visit:\n",
      "\n",
      "    https://accounts.google.com/o/oauth2/auth?client_id=573761671814-b6ltd3ec8v3ok2fb2ul6gfjs77iohk6k.apps.googleusercontent.com&redirect_uri=http%3A%2F%2Flocalhost%3A8080%2F&scope=https%3A%2F%2Fwww.googleapis.com%2Fauth%2Fdrive&access_type=offline&response_type=code\n",
      "\n",
      "Authentication successful.\n"
     ]
    }
   ],
   "source": [
    "gauth = GoogleAuth()\n",
    "gauth.LocalWebserverAuth() # client_secrets.json need to be in the same directory as the script\n",
    "drive = GoogleDrive(gauth)"
   ]
  },
  {
   "cell_type": "code",
   "execution_count": 18,
   "metadata": {},
   "outputs": [],
   "source": [
    "# View all folders and file in your Google Drive\n",
    "fileList = drive.ListFile({'q': \"'root' in parents and trashed=false\"}).GetList()\n",
    "for file in fileList:\n",
    "    #print('Title: %s, ID: %s' % (file['title'], file['id']))\n",
    "    if (file['title'] == 'Thesis'):\n",
    "        thesisFolderID = file['id']\n",
    "        file_list = drive.ListFile({'q': \"'{}' in parents and trashed=false\".format(thesisFolderID)}).GetList()\n",
    "        break\n",
    "        \n",
    "# View all files in thesis folder\n",
    "for file in file_list:\n",
    "    if (file['title'] == 'FEC_Dataset'):\n",
    "        FEC_datasetID = file['id']\n",
    "        datalist = drive.ListFile({'q': \"'{}' in parents and trashed=false\".format(FEC_datasetID)}).GetList()\n",
    "        break\n",
    "        \n",
    "# datalist is all files in FEC_dataset folder\n",
    "x = datalist[0]\n",
    "y = datalist[1]"
   ]
  },
  {
   "cell_type": "code",
   "execution_count": null,
   "metadata": {},
   "outputs": [],
   "source": []
  }
 ],
 "metadata": {
  "kernelspec": {
   "display_name": "Python 3",
   "language": "python",
   "name": "python3"
  },
  "language_info": {
   "codemirror_mode": {
    "name": "ipython",
    "version": 3
   },
   "file_extension": ".py",
   "mimetype": "text/x-python",
   "name": "python",
   "nbconvert_exporter": "python",
   "pygments_lexer": "ipython3",
   "version": "3.8.3"
  }
 },
 "nbformat": 4,
 "nbformat_minor": 4
}
